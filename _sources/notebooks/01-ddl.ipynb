{
 "cells": [
  {
   "cell_type": "markdown",
   "id": "86ef0eb9-145d-4ee5-a140-efad37b094b7",
   "metadata": {},
   "source": [
    "# Create the database\n",
    "\n",
    "In this project, I will be using the GitHub API to create a MySQL database. \n",
    "\n",
    "To begin, I first put together an entity relationship diagram in order to map the relationships between the tables. \n",
    "\n",
    "Pieces of this project have been adapted from the tutorial \"[Consuming the GitHub API v3 and load the data into SQLite database](https://medium.com/mcd-unison/consuming-the-github-api-v3-and-load-the-data-into-sqlite-database-223025ca8a4a).\""
   ]
  },
  {
   "cell_type": "markdown",
   "id": "cb44ba82-c2e7-427e-9d29-4c4346aebd90",
   "metadata": {},
   "source": [
    "![](../docs/schema.png)"
   ]
  },
  {
   "cell_type": "markdown",
   "id": "ef31d4d2-e580-42bf-84d7-f4acabcc2084",
   "metadata": {},
   "source": [
    "## Setup connection\n",
    "\n",
    "We first need to set up a connection to MySQL via the `mysql.connector` package. In order to protect the credentials of the database, I have used environment variables. The only steps taken within MySQL are "
   ]
  },
  {
   "cell_type": "code",
   "execution_count": 1,
   "id": "86b37388-0709-4b10-b157-263ea32d07cf",
   "metadata": {},
   "outputs": [
    {
     "data": {
      "text/plain": [
       "True"
      ]
     },
     "execution_count": 1,
     "metadata": {},
     "output_type": "execute_result"
    }
   ],
   "source": [
    "import mysql.connector\n",
    "import os\n",
    "from dotenv import load_dotenv\n",
    "\n",
    "load_dotenv()"
   ]
  },
  {
   "cell_type": "code",
   "execution_count": 2,
   "id": "429404cd-91b5-4ae4-a9ed-a3a5795ae564",
   "metadata": {},
   "outputs": [],
   "source": [
    "mysql_user = os.getenv(\"MYSQL_USER\")\n",
    "mysql_pass = os.getenv(\"MYSQL_PASS\")"
   ]
  },
  {
   "cell_type": "code",
   "execution_count": 3,
   "id": "ddb7fb6b-1cde-4e12-b9d5-cd0fd47ed81d",
   "metadata": {},
   "outputs": [],
   "source": [
    "cnx = mysql.connector.connect(user=mysql_user, password=mysql_pass,\n",
    "                              host='127.0.0.1',\n",
    "                              database='final_proj')"
   ]
  },
  {
   "cell_type": "markdown",
   "id": "8064226b-1a21-4b9e-ac26-60436ad6f951",
   "metadata": {},
   "source": [
    "## Create tables\n",
    "\n",
    "Using data definition language, we can create different tables for our database. We will create `repo`, `branch`, `commits`, and `commit_file` tables to look more deeply into data gathered on different repositories."
   ]
  },
  {
   "cell_type": "code",
   "execution_count": 4,
   "id": "747fbd3c-073a-4375-8aa1-c939a1328f6d",
   "metadata": {},
   "outputs": [],
   "source": [
    "ddl = \"\"\"\n",
    "CREATE TABLE IF NOT EXISTS repo(\n",
    "id integer PRIMARY KEY,\n",
    "name VARCHAR(255) NOT NULL,\n",
    "owner VARCHAR(255) NOT NULL,\n",
    "fullname VARCHAR(511) NOT NULL,\n",
    "description TEXT NOT NULL,\n",
    "url VARCHAR(511) NOT NULL,\n",
    "pushed_date INTEGER NOT NULL,\n",
    "created_date INTEGER NOT NULL,\n",
    "updated_date INTEGER NOT NULL,\n",
    "size INTEGER NOT NULL,\n",
    "stars INTEGER NOT NULL,\n",
    "forks INTEGER NOT NULL,\n",
    "watchers INTEGER NOT NULL,\n",
    "language VARCHAR(255) NOT NULL,\n",
    "topics TEXT NOT NULL\n",
    ");\n",
    "CREATE TABLE IF NOT EXISTS branch(\n",
    "id integer PRIMARY KEY,\n",
    "repo_id INTEGER NOT NULL,\n",
    "name VARCHAR(255) NOT NULL,\n",
    "commit_sha VARCHAR(255) NOT NULL,\n",
    "protected  INTEGER NOT NULL,\n",
    "FOREIGN KEY (repo_id) REFERENCES repo (id)\n",
    ");\n",
    "CREATE TABLE IF NOT EXISTS commits(\n",
    "id integer PRIMARY KEY,\n",
    "repo_id INTEGER NOT NULL,\n",
    "commit_sha VARCHAR(255) NOT NULL,\n",
    "commit_message TEXT NOT NULL,\n",
    "commit_author_name VARCHAR(255) NOT NULL,\n",
    "commit_author_email VARCHAR(255) NOT NULL,\n",
    "commit_author_date INTEGER NOT NULL,\n",
    "commit_committer_name VARCHAR(255) NOT NULL,\n",
    "commit_committer_email VARCHAR(255) NOT NULL,\n",
    "commit_committer_date INTEGER NOT NULL,\n",
    "author_login VARCHAR(255)  NULL,\n",
    "author_id INTEGER NULL,\n",
    "author_avatar_url VARCHAR(255) NULL,\n",
    "author_type VARCHAR(255) NULL,\n",
    "committer_login VARCHAR(255) NULL,\n",
    "committer_id INTEGER NULL,\n",
    "committer_avatar_url VARCHAR(255) NULL,\n",
    "committer_type VARCHAR(255) NULL,\n",
    "stats_addtions INTEGER NOT NULL,\n",
    "stats_deletions INTEGER NOT NULL,\n",
    "stats_total INTEGER NOT NULL,\n",
    "FOREIGN KEY (repo_id) REFERENCES repo (id)\n",
    ");\n",
    "CREATE TABLE IF NOT EXISTS commit_file(\n",
    "id integer PRIMARY KEY,\n",
    "commit_id INTEGER NOT NULL,\n",
    "repo_id INTEGER NOT NULL,\n",
    "file_name VARCHAR(255) NOT NULL,\n",
    "addtions INTEGER NOT NULL,\n",
    "deletions INTEGER NOT NULL,\n",
    "changes INTEGER NOT NULL,\n",
    "status VARCHAR(255) NOT NULL,\n",
    "FOREIGN KEY (commit_id) REFERENCES commits (id),\n",
    "FOREIGN KEY (repo_id) REFERENCES repo (id)\n",
    ");\n",
    "\"\"\""
   ]
  },
  {
   "cell_type": "code",
   "execution_count": 5,
   "id": "cda0193f-0d9d-44c6-9e5c-41c3f363fbbe",
   "metadata": {},
   "outputs": [],
   "source": [
    "cursor = cnx.cursor(dictionary=True)\n",
    "cursor.execute(ddl)"
   ]
  },
  {
   "cell_type": "code",
   "execution_count": 6,
   "id": "58383ace-1725-424c-9006-1eba48b51484",
   "metadata": {},
   "outputs": [],
   "source": [
    "cnx.close()"
   ]
  },
  {
   "cell_type": "markdown",
   "id": "edbb7768-7866-4665-835a-5622fc2a9044",
   "metadata": {},
   "source": [
    "## Conclusion\n",
    "\n",
    "Success! :D "
   ]
  },
  {
   "cell_type": "code",
   "execution_count": null,
   "id": "ee9ddc20-052f-46ed-850f-88768d9789a3",
   "metadata": {},
   "outputs": [],
   "source": []
  }
 ],
 "metadata": {
  "kernelspec": {
   "display_name": "Python 3 (ipykernel)",
   "language": "python",
   "name": "python3"
  },
  "language_info": {
   "codemirror_mode": {
    "name": "ipython",
    "version": 3
   },
   "file_extension": ".py",
   "mimetype": "text/x-python",
   "name": "python",
   "nbconvert_exporter": "python",
   "pygments_lexer": "ipython3",
   "version": "3.9.7"
  }
 },
 "nbformat": 4,
 "nbformat_minor": 5
}
